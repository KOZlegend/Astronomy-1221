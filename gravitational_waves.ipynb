{
  "nbformat": 4,
  "nbformat_minor": 0,
  "metadata": {
    "colab": {
      "provenance": [],
      "authorship_tag": "ABX9TyNdQl+oSBOp6M19zKG/NKty",
      "include_colab_link": true
    },
    "kernelspec": {
      "name": "python3",
      "display_name": "Python 3"
    },
    "language_info": {
      "name": "python"
    }
  },
  "cells": [
    {
      "cell_type": "markdown",
      "metadata": {
        "id": "view-in-github",
        "colab_type": "text"
      },
      "source": [
        "<a href=\"https://colab.research.google.com/github/KOZlegend/Dark-Matter/blob/main/gravitational_waves.ipynb\" target=\"_parent\"><img src=\"https://colab.research.google.com/assets/colab-badge.svg\" alt=\"Open In Colab\"/></a>"
      ]
    },
    {
      "cell_type": "code",
      "execution_count": null,
      "metadata": {
        "id": "nqAhx3tyjDck"
      },
      "outputs": [],
      "source": [
        "import numpy as np # import numpy\n",
        "import astropy.units as u # import astropy units\n",
        "import astropy.constants as ac # import astropy constants\n",
        "import matplotlib.pyplot as plt # import plotting"
      ]
    },
    {
      "cell_type": "code",
      "source": [
        "def calculate_radius(mass): # define inputs for calculation as mass\n",
        "  return((2 * ac.G * mass) / (ac.c ** 2)) # define equation"
      ],
      "metadata": {
        "id": "ICvQnG4JjNes"
      },
      "execution_count": null,
      "outputs": []
    },
    {
      "cell_type": "code",
      "source": [
        "mass = 1 * u.solMass # set mass as one solar mass\n",
        "radius_bh = calculate_radius(mass) # calculate radius if black hole is one solar mass\n",
        "print(radius_bh.to(u.km)) # print solution in km"
      ],
      "metadata": {
        "colab": {
          "base_uri": "https://localhost:8080/"
        },
        "id": "SslZ4JGxjfkx",
        "outputId": "0811e6ea-b225-408a-9782-c11868e8f739"
      },
      "execution_count": null,
      "outputs": [
        {
          "output_type": "stream",
          "name": "stdout",
          "text": [
            "2.95325007610025 km\n"
          ]
        }
      ]
    },
    {
      "cell_type": "code",
      "source": [
        "def calculate_mass(delta_time): # define inputs for calculation as change in time\n",
        "  return((delta_time * ac.c ** 3) / (16 * np.pi * ac.G)) # define equation"
      ],
      "metadata": {
        "id": "qEPjfwJLlsVR"
      },
      "execution_count": null,
      "outputs": []
    },
    {
      "cell_type": "code",
      "source": [
        "delta_time = 0.01 * u.second # set change in time to 0.01 seconds\n",
        "mass_bh = calculate_mass(delta_time) # calculate mass of black hole based on change in time\n",
        "print(mass_bh.to(u.solMass)) # print mass in solar masses"
      ],
      "metadata": {
        "colab": {
          "base_uri": "https://localhost:8080/"
        },
        "id": "qIPYVJP0mE9S",
        "outputId": "9acd3e45-136c-4691-be08-8f5d49ed6e32"
      },
      "execution_count": null,
      "outputs": [
        {
          "output_type": "stream",
          "name": "stdout",
          "text": [
            "40.390629275268466 solMass\n"
          ]
        }
      ]
    },
    {
      "cell_type": "code",
      "source": [
        "h = 1e-21 # set strain\n",
        "delta_Earth = 1 * u.earthRad * h # calculate deformation of Earth\n",
        "print(\"deformation of Earth is \", delta_Earth.to(u.femtometer)) # print deformation of Earth in femtometers"
      ],
      "metadata": {
        "colab": {
          "base_uri": "https://localhost:8080/"
        },
        "id": "E0vE8O2_n8ok",
        "outputId": "47679148-384b-4580-8350-a65cc65a6a15"
      },
      "execution_count": null,
      "outputs": [
        {
          "output_type": "stream",
          "name": "stdout",
          "text": [
            "deformation of Earth is  6.378099999999999 fm\n"
          ]
        }
      ]
    },
    {
      "cell_type": "markdown",
      "source": [
        "h = R_bh / distance, so distance = R_bh / h\n"
      ],
      "metadata": {
        "id": "Uput8FrKpJZ0"
      }
    },
    {
      "cell_type": "code",
      "source": [
        "R_bh = 2 * ac.G * 30 * u.solMass / (ac.c ** 2) # set radius equation\n",
        "D = R_bh / h # calculate distance based on radius and strain\n",
        "print(\"distance of the black holer merger is \", D.to(1e6 * u.parsec)) # print distance of black hole merger in parsecs"
      ],
      "metadata": {
        "colab": {
          "base_uri": "https://localhost:8080/"
        },
        "id": "sT7lo4wVpSGk",
        "outputId": "225db4f2-4492-43c2-e466-28f13ec63457"
      },
      "execution_count": null,
      "outputs": [
        {
          "output_type": "stream",
          "name": "stdout",
          "text": [
            "distance of the black holer merger is  2871.249504952705 1e+06 pc\n"
          ]
        }
      ]
    }
  ]
}