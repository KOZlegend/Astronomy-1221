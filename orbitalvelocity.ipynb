{
  "nbformat": 4,
  "nbformat_minor": 0,
  "metadata": {
    "colab": {
      "provenance": [],
      "authorship_tag": "ABX9TyM634Yq8Q0JTHtl8qGtZIT7",
      "include_colab_link": true
    },
    "kernelspec": {
      "name": "python3",
      "display_name": "Python 3"
    },
    "language_info": {
      "name": "python"
    }
  },
  "cells": [
    {
      "cell_type": "markdown",
      "metadata": {
        "id": "view-in-github",
        "colab_type": "text"
      },
      "source": [
        "<a href=\"https://colab.research.google.com/github/KOZlegend/Dark-Matter/blob/main/orbitalvelocity.ipynb\" target=\"_parent\"><img src=\"https://colab.research.google.com/assets/colab-badge.svg\" alt=\"Open In Colab\"/></a>"
      ]
    },
    {
      "cell_type": "code",
      "execution_count": 3,
      "metadata": {
        "id": "Mm4-y6uDXXYR"
      },
      "outputs": [],
      "source": [
        "import numpy as np # import numpy"
      ]
    },
    {
      "cell_type": "code",
      "source": [
        "import astropy.units as u # import astropy units\n",
        "import astropy.constants as ac # import astropy constants"
      ],
      "metadata": {
        "id": "X_J_UgPcXq5x"
      },
      "execution_count": 2,
      "outputs": []
    },
    {
      "cell_type": "code",
      "source": [
        "v_orbital = np.sqrt(ac.G * u.solMass / u.au) # set equation for orbital velocity based on mass of the Sun and distance from the Sun to Earth"
      ],
      "metadata": {
        "id": "YtB8KIW5Y2oq"
      },
      "execution_count": 4,
      "outputs": []
    },
    {
      "cell_type": "code",
      "source": [
        "print(v_orbital.si, v_orbital.to(u.km / u.s), v_orbital.to(ac.c)) # print calculation results in different units"
      ],
      "metadata": {
        "colab": {
          "base_uri": "https://localhost:8080/"
        },
        "id": "sPTC9TuoZMvP",
        "outputId": "d58379e0-3e3a-4b31-b413-c21e66279c4b"
      },
      "execution_count": 5,
      "outputs": [
        {
          "output_type": "stream",
          "name": "stdout",
          "text": [
            "29784.691829676933 m / s 29.784691829676934 km / s 9.935103780921979e-05 2.99792e+08 m / s\n"
          ]
        }
      ]
    },
    {
      "cell_type": "code",
      "source": [
        "v_satellite = np.sqrt(ac.G * u.M_earth / u.earthRad) # set equation for orbital velocity based on mass of Earth and radius of Earth"
      ],
      "metadata": {
        "id": "JOF8TSsza34U"
      },
      "execution_count": 6,
      "outputs": []
    },
    {
      "cell_type": "code",
      "source": [
        "print(v_satellite.to(u.km / u.s)) # print result"
      ],
      "metadata": {
        "colab": {
          "base_uri": "https://localhost:8080/"
        },
        "id": "gP3xNaURbwrR",
        "outputId": "426ecaa6-65b7-4d6e-96fd-f8508468e8f6"
      },
      "execution_count": 7,
      "outputs": [
        {
          "output_type": "stream",
          "name": "stdout",
          "text": [
            "7.905388234385281 km / s\n"
          ]
        }
      ]
    },
    {
      "cell_type": "code",
      "source": [
        "r_schwarzschild = (2 * ac.G * u.M_sun / ac.c**2) # set equation for radius based on mass of black hole and velocity based on speed of light squared"
      ],
      "metadata": {
        "id": "Q6dNIceFcaNy"
      },
      "execution_count": null,
      "outputs": []
    },
    {
      "cell_type": "code",
      "source": [
        "print(r_schwarzschild.to(u.km)) # print result"
      ],
      "metadata": {
        "colab": {
          "base_uri": "https://localhost:8080/"
        },
        "id": "hfTVPCKQdEO6",
        "outputId": "61eea6ce-0fd6-4871-cf03-c3aa90bed02f"
      },
      "execution_count": null,
      "outputs": [
        {
          "output_type": "stream",
          "name": "stdout",
          "text": [
            "2.95325007610025 km\n"
          ]
        }
      ]
    }
  ]
}