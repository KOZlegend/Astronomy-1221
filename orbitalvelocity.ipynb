{
  "nbformat": 4,
  "nbformat_minor": 0,
  "metadata": {
    "colab": {
      "provenance": [],
      "authorship_tag": "ABX9TyOJjlobFsKsbcxlb5IjoBvr",
      "include_colab_link": true
    },
    "kernelspec": {
      "name": "python3",
      "display_name": "Python 3"
    },
    "language_info": {
      "name": "python"
    }
  },
  "cells": [
    {
      "cell_type": "markdown",
      "metadata": {
        "id": "view-in-github",
        "colab_type": "text"
      },
      "source": [
        "<a href=\"https://colab.research.google.com/github/KOZlegend/Dark-Matter/blob/main/orbitalvelocity.ipynb\" target=\"_parent\"><img src=\"https://colab.research.google.com/assets/colab-badge.svg\" alt=\"Open In Colab\"/></a>"
      ]
    },
    {
      "cell_type": "code",
      "execution_count": null,
      "metadata": {
        "id": "Mm4-y6uDXXYR"
      },
      "outputs": [],
      "source": [
        "import numpy as np"
      ]
    },
    {
      "cell_type": "code",
      "source": [
        "import astropy.units as u\n",
        "import astropy.constants as ac"
      ],
      "metadata": {
        "id": "X_J_UgPcXq5x"
      },
      "execution_count": null,
      "outputs": []
    },
    {
      "cell_type": "code",
      "source": [
        "v_orbital = np.sqrt(ac.G * u.solMass / u.au)"
      ],
      "metadata": {
        "id": "YtB8KIW5Y2oq"
      },
      "execution_count": null,
      "outputs": []
    },
    {
      "cell_type": "code",
      "source": [
        "print(v_orbital.si, v_orbital.to(u.km / u.s), v_orbital.to(ac.c))"
      ],
      "metadata": {
        "colab": {
          "base_uri": "https://localhost:8080/"
        },
        "id": "sPTC9TuoZMvP",
        "outputId": "bec9305e-5007-4d6a-9488-d7ae670f6447"
      },
      "execution_count": null,
      "outputs": [
        {
          "output_type": "stream",
          "name": "stdout",
          "text": [
            "29784.691829676933 m / s 29.784691829676934 km / s 9.935103780921979e-05 2.99792e+08 m / s\n"
          ]
        }
      ]
    },
    {
      "cell_type": "code",
      "source": [
        "v_satellite = np.sqrt(ac.G * u.M_earth / u.earthRad)"
      ],
      "metadata": {
        "id": "JOF8TSsza34U"
      },
      "execution_count": null,
      "outputs": []
    },
    {
      "cell_type": "code",
      "source": [
        "print(v_satellite.to(u.km / u.s))"
      ],
      "metadata": {
        "colab": {
          "base_uri": "https://localhost:8080/"
        },
        "id": "gP3xNaURbwrR",
        "outputId": "e3d3984e-a821-4dfd-82bb-cf3a72014bcd"
      },
      "execution_count": null,
      "outputs": [
        {
          "output_type": "stream",
          "name": "stdout",
          "text": [
            "7.905388234385281 km / s\n"
          ]
        }
      ]
    },
    {
      "cell_type": "code",
      "source": [
        "r_schwarzschild = (2 * ac.G * u.M_sun / ac.c**2)"
      ],
      "metadata": {
        "id": "Q6dNIceFcaNy"
      },
      "execution_count": null,
      "outputs": []
    },
    {
      "cell_type": "code",
      "source": [
        "print(r_schwarzschild.to(u.km))"
      ],
      "metadata": {
        "colab": {
          "base_uri": "https://localhost:8080/"
        },
        "id": "hfTVPCKQdEO6",
        "outputId": "61eea6ce-0fd6-4871-cf03-c3aa90bed02f"
      },
      "execution_count": null,
      "outputs": [
        {
          "output_type": "stream",
          "name": "stdout",
          "text": [
            "2.95325007610025 km\n"
          ]
        }
      ]
    }
  ]
}