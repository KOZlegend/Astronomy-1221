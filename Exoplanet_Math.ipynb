{
  "nbformat": 4,
  "nbformat_minor": 0,
  "metadata": {
    "colab": {
      "provenance": [],
      "authorship_tag": "ABX9TyPbtiAQm76PIZgx4QCHnPeQ",
      "include_colab_link": true
    },
    "kernelspec": {
      "name": "python3",
      "display_name": "Python 3"
    },
    "language_info": {
      "name": "python"
    }
  },
  "cells": [
    {
      "cell_type": "markdown",
      "metadata": {
        "id": "view-in-github",
        "colab_type": "text"
      },
      "source": [
        "<a href=\"https://colab.research.google.com/github/KOZlegend/Astronomy-1221/blob/Exoplanets/Exoplanet_Math.ipynb\" target=\"_parent\"><img src=\"https://colab.research.google.com/assets/colab-badge.svg\" alt=\"Open In Colab\"/></a>"
      ]
    },
    {
      "cell_type": "code",
      "execution_count": null,
      "metadata": {
        "id": "keT6Wki5nthr"
      },
      "outputs": [],
      "source": [
        "import numpy as np # import numpy\n",
        "import astropy.units as u # import astropy units\n",
        "import astropy.constants as ac # import astropy constants"
      ]
    },
    {
      "cell_type": "code",
      "source": [
        "v = np.sqrt(ac.G * u.solMass / u.AU) # velocity of Earth\n",
        "print(v.to(u.km / u.s)) # print velocity in km/s\n",
        "d = 2 * u.solRad # set distance as twice the radius of the sun\n",
        "t = d / v # equation for time (distance over velocity)\n",
        "print(t.to(u.hour)) # print time in hours\n",
        "delta = (u.earthRad / u.solRad) ** 2 # flux reduction due to Earth transiting the sun\n",
        "print(delta.decompose()) # print result"
      ],
      "metadata": {
        "colab": {
          "base_uri": "https://localhost:8080/"
        },
        "id": "O-Mg0vqjqEu2",
        "outputId": "ebcf92dc-c51e-4a1a-9747-1983846d7a0d"
      },
      "execution_count": null,
      "outputs": [
        {
          "output_type": "stream",
          "name": "stdout",
          "text": [
            "29.784691829676934 km / s\n",
            "12.976464628547822 h\n",
            "8.40502e-05\n"
          ]
        }
      ]
    },
    {
      "cell_type": "code",
      "source": [
        "v = np.sqrt(ac.G * u.solMass / (5 * u.AU)) # velocity of Jupiter\n",
        "print(v.to(u.km / u.s)) print velocity in km/s\n",
        "d = 2 * u.solRad # set distance as twice the radius of the sun\n",
        "t = d / v # equation for time (distance over velocity)\n",
        "print(t.to(u.hour)) # print time in hours\n",
        "delta = (u.jupiterRad / u.solRad) ** 2 # flux reduction due to Earth transiting the sun\n",
        "print(delta.decompose()) # print result"
      ],
      "metadata": {
        "colab": {
          "base_uri": "https://localhost:8080/"
        },
        "id": "T4X9tWDOsiqW",
        "outputId": "28b20776-f8d8-474a-e4c1-92a53f5aee91"
      },
      "execution_count": null,
      "outputs": [
        {
          "output_type": "stream",
          "name": "stdout",
          "text": [
            "13.320119124008043 km / s\n",
            "29.01625701705449 h\n",
            "0.0105602\n"
          ]
        }
      ]
    },
    {
      "cell_type": "code",
      "source": [
        "v_earth = 30 * u.km / u.s # velocity of Earth (found above)\n",
        "v = (u.earthMass / u.solMass) * v_earth # velocity of Sun given conservation of momentum\n",
        "print(v.to(u.m / u.s)) # print velocity of Sun"
      ],
      "metadata": {
        "colab": {
          "base_uri": "https://localhost:8080/"
        },
        "id": "hrcZDfFgxkIH",
        "outputId": "1701cf17-14e7-40b0-b6b9-4eb89725a442"
      },
      "execution_count": null,
      "outputs": [
        {
          "output_type": "stream",
          "name": "stdout",
          "text": [
            "0.09010468046552379 m / s\n"
          ]
        }
      ]
    },
    {
      "cell_type": "code",
      "source": [
        "v_jupiter = 13.32 * u.km / u.s # velocity of Jupiter (found above)\n",
        "v = (u.jupiterMass / u.solMass) * v_jupiter # velocity of Sun given conservation of momentum\n",
        "print(v.to(u.m / u.s)) # print velocity of Sun"
      ],
      "metadata": {
        "colab": {
          "base_uri": "https://localhost:8080/"
        },
        "id": "sofMN1Pdynlm",
        "outputId": "e41c8e9e-0291-4fcb-e4eb-46b618d11abb"
      },
      "execution_count": null,
      "outputs": [
        {
          "output_type": "stream",
          "name": "stdout",
          "text": [
            "12.715195196471408 m / s\n"
          ]
        }
      ]
    }
  ]
}